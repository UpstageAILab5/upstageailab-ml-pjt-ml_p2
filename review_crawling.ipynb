{
 "cells": [
  {
   "cell_type": "markdown",
   "metadata": {},
   "source": [
    "# 영화 리뷰 크롤링"
   ]
  },
  {
   "cell_type": "markdown",
   "metadata": {},
   "source": [
    "## 1. 환경 구축\n",
    "\n",
    "- Selenium\n",
    "- BeautifulSoup\n",
    "- pandas"
   ]
  },
  {
   "cell_type": "code",
   "execution_count": 12,
   "metadata": {},
   "outputs": [],
   "source": [
    "# %pip install Selenium\n",
    "# %pip install beautifulsoup4\n",
    "# %pip install pandas"
   ]
  },
  {
   "cell_type": "code",
   "execution_count": 13,
   "metadata": {},
   "outputs": [],
   "source": [
    "from selenium import webdriver\n",
    "from selenium.webdriver.support import expected_conditions as EC\n",
    "from selenium.webdriver.common.by import By\n",
    "\n",
    "import time\n",
    "import pandas as pd\n",
    "from selenium.common.exceptions import NoSuchElementException"
   ]
  },
  {
   "cell_type": "code",
   "execution_count": 14,
   "metadata": {},
   "outputs": [],
   "source": [
    "cgv_movie_codes = {\"moana2\":\"88381\", \"wicked\":\"88076\", \"1승\":\"89075\", \"gladiator2\":\"88459\"}\n",
    "CGV_URL = \"http://www.cgv.co.kr/movies/detail-view/?midx=\"\n",
    "CGV_OBJECT_NAME = \"cgv_reviews.csv\"\n",
    "CGV_DATA_PATH = f\"./data/{CGV_OBJECT_NAME}\"\n",
    "\n",
    "megabox_movie_codes = {\"moana2\":\"24036800\", \"wicked\":\"24010200\", \"1승\":\"24073500\", \"gladiator2\":\"24043900\"}\n",
    "MEGABOX_URL = \"https://www.megabox.co.kr/movie-detail/comment?rpstMovieNo=\"\n",
    "MEGABOX_OBJECT_NAME = \"megabox_reviews.csv\"\n",
    "MEGABOX_DATA_PATH = f\"./data/{MEGABOX_OBJECT_NAME}\"\n",
    "\n",
    "# LOTTECINEMA_URL = \"https://www.lottecinema.co.kr/NLCHS/Movie/MovieDetailView?movie=20881\"\n",
    "# LOTTECINEMA_DATA_PATH = \"./data/lottecinema_reviews.csv\""
   ]
  },
  {
   "cell_type": "code",
   "execution_count": 15,
   "metadata": {},
   "outputs": [],
   "source": [
    "def get_movie_reviews_on_cgv(url, page_num=10):\n",
    "    \"\"\"\n",
    "    CGV는 한페이지당 리뷰 6개를 가지고 온다.\n",
    "    \"\"\"\n",
    "    wd = webdriver.Chrome()\n",
    "    wd.get(url)\n",
    "    # 빈 리스트 생성하기\n",
    "    review_list=[]\n",
    "    \n",
    "    for page_no in range(1,page_num+1): # 1페이지에서 page_num까지의 리뷰 추출\n",
    "        try:\n",
    "            page_ul = wd.find_element(By.ID, 'paging_point') # 페이지 포인트 코드 추출\n",
    "            page_a = page_ul.find_element(By.LINK_TEXT, str(page_no))\n",
    "            page_a.click()\n",
    "            time.sleep(2) # 페이지 로딩까지의 시간 두기\n",
    "\n",
    "            reviews = wd.find_elements(By.CLASS_NAME, 'box-comment')\n",
    "            review_list += [ review.text for review in reviews ]\n",
    "\n",
    "            if page_no % 10 == 0: # 10이상의 값을 만났을 때\n",
    "                next_button = page_ul.find_element(By.XPATH, './/button[contains(@class, \"btn-paging next\")]')\n",
    "                next_button.click()\n",
    "                time.sleep(2)\n",
    "        except NoSuchElementException as e:\n",
    "                print(\"불러올 페이지가 없습니다.\")\n",
    "                print(e)\n",
    "                break\n",
    "    movie_review_df = pd.DataFrame({\"review\" : review_list})\n",
    "    wd.close()\n",
    "    return movie_review_df"
   ]
  },
  {
   "cell_type": "code",
   "execution_count": 16,
   "metadata": {},
   "outputs": [],
   "source": [
    "full_url = CGV_URL + cgv_movie_codes[\"moana2\"]\n",
    "\n",
    "review_df = get_movie_reviews_on_cgv(url=full_url, page_num=5)\n",
    "\n",
    "review_df.to_csv(CGV_DATA_PATH, sep=\",\",index=False, encoding=\"utf-8\")"
   ]
  },
  {
   "cell_type": "code",
   "execution_count": 17,
   "metadata": {},
   "outputs": [],
   "source": [
    "def get_movie_reviews_on_megabox(url, page_num=3):\n",
    "    \"\"\"\n",
    "    메가박스는 한페이지당 리뷰 10개를 가지고 온다.\n",
    "    \"\"\"\n",
    "    wd = webdriver.Chrome()\n",
    "    wd.get(url)\n",
    "    # 빈 리스트 생성하기\n",
    "    review_list=[]\n",
    "    \n",
    "    for page_no in range(1,page_num+1): # 1페이지에서 page_num까지의 리뷰 추출\n",
    "        try:\n",
    "            if page_no % 10 != 1:\n",
    "                page_nav = wd.find_element(By.CLASS_NAME, 'pagination') # 페이지 포인트 코드 추출\n",
    "                page_a = page_nav.find_element(By.LINK_TEXT, str(page_no))\n",
    "                page_a.click()\n",
    "                time.sleep(2) # 페이지 로딩까지의 시간 두기\n",
    "\n",
    "            reviews = wd.find_elements(By.CLASS_NAME, 'story-txt')\n",
    "            review_list += [ review.text for review in reviews ]\n",
    "\n",
    "            if page_no % 10 == 0: # 10이상의 값을 만났을 때\n",
    "                next_button = page_nav.find_element(By.XPATH, './/a[contains(@class, \"control next\")]')\n",
    "                next_button.click()\n",
    "                time.sleep(2)\n",
    "        except NoSuchElementException as e:\n",
    "            print(\"불러올 페이지가 없습니다.\")\n",
    "            print(e)\n",
    "            break\n",
    "    movie_review_df = pd.DataFrame({\"review\" : review_list})\n",
    "    wd.close()\n",
    "    return movie_review_df"
   ]
  },
  {
   "cell_type": "code",
   "execution_count": null,
   "metadata": {},
   "outputs": [],
   "source": [
    "full_url = MEGABOX_URL + megabox_movie_codes[\"moana2\"]\n",
    "\n",
    "review_df = get_movie_reviews_on_megabox(url=full_url, page_num=3)\n",
    "\n",
    "review_df.to_csv(MEGABOX_DATA_PATH, sep=\",\",index=False, encoding=\"utf-8\")"
   ]
  },
  {
   "cell_type": "code",
   "execution_count": 19,
   "metadata": {},
   "outputs": [],
   "source": [
    "# def get_movie_reviews_on_lottecinema(url, page_num=-1):\n",
    "#     wd = webdriver.Chrome()\n",
    "#     wd.get(url)\n",
    "#     # 빈 리스트 생성하기\n",
    "#     review_list=[]\n",
    "#     i = 1\n",
    "\n",
    "#     time.sleep(2)\n",
    "#     element = wd.find_element(By.XPATH, '//*[@id=\"contents_new23\"]/div[2]/ul/li[2]/button')\n",
    "#     wd.execute_script(\"arguments[0].scrollIntoView(true);\", element)  # 스크롤로 요소를 화면에 보이도록 이동\n",
    "#     ActionChains(wd).move_to_element(element).perform()  # 요소 위로 마우스 이동\n",
    "#     time.sleep(1) # 페이지 로딩까지의 시간 두기\n",
    "#     # wd.execute_script(\"arguments[0].click();\", tab_btn)\n",
    "#     # WebDriverWait(wd, 3).until(\n",
    "#     #     EC.element_to_be_clickable((By.XPATH, '//*[@id=\"contents_new23\"]/div[2]/ul/li[2]/button'))\n",
    "#     # ).click()\n",
    "#     # time.sleep(1) # 페이지 로딩까지의 시간 두기\n",
    "    \n",
    "#     # while True if page_num == -1 else i <= page_num:\n",
    "#     #     try:\n",
    "#     #         next_btn = wd.find_element(By.ID, 'btn_review_more')\n",
    "#     #         if next_btn.is_displayed() and i != page_num:\n",
    "#     #             wd.execute_script(\"arguments[0].scrollIntoView(true);\", next_btn)  # 스크롤로 요소를 화면에 보이도록 이동\n",
    "#     #             ActionChains(wd).move_to_element(next_btn).perform()  # 요소 위로 마우스 이동\n",
    "#     #             time.sleep(2)\n",
    "#     #             WebDriverWait(wd, 10).until(\n",
    "#     #                 EC.element_to_be_clickable((By.ID, 'btn_review_more'))\n",
    "#     #             ).click()\n",
    "#     #             i += 1\n",
    "#     #             time.sleep(2) # 페이지 로딩까지의 시간 두기\n",
    "#     #         else:\n",
    "#     #             reviews = wd.find_elements(By.CLASS_NAME, 'review_info')\n",
    "#     #             review_list += [ review.text for review in reviews ]\n",
    "#     #             break\n",
    "#     #     except NoSuchElementException as e:\n",
    "#     #         print(\"불러올 페이지가 없습니다.\")\n",
    "#     #         print(e)\n",
    "#     #         reviews = wd.find_elements(By.CLASS_NAME, 'review_info')\n",
    "#     #         review_list += [ review.text for review in reviews ]\n",
    "#     #         break\n",
    "        \n",
    "#     movie_review_df = pd.DataFrame({\"review\" : review_list})\n",
    "#     # wd.close()\n",
    "#     return movie_review_df"
   ]
  },
  {
   "cell_type": "code",
   "execution_count": 20,
   "metadata": {},
   "outputs": [],
   "source": [
    "# review_df = get_movie_reviews_on_lottecinema(url=LOTTECINEMA_URL, page_num=10)\n",
    "\n",
    "# review_df.to_csv(LOTTECINEMA_DATA_PATH, sep=\",\",index=False, encoding=\"utf-8\")"
   ]
  }
 ],
 "metadata": {
  "kernelspec": {
   "display_name": ".venv",
   "language": "python",
   "name": "python3"
  },
  "language_info": {
   "codemirror_mode": {
    "name": "ipython",
    "version": 3
   },
   "file_extension": ".py",
   "mimetype": "text/x-python",
   "name": "python",
   "nbconvert_exporter": "python",
   "pygments_lexer": "ipython3",
   "version": "3.10.15"
  }
 },
 "nbformat": 4,
 "nbformat_minor": 2
}
